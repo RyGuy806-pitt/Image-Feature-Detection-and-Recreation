{
 "cells": [
  {
   "cell_type": "markdown",
   "id": "f4e0eb0d",
   "metadata": {},
   "source": [
    "<h1>Custom Functions<h1>"
   ]
  },
  {
   "cell_type": "code",
   "execution_count": 1,
   "id": "fccc13e0",
   "metadata": {},
   "outputs": [],
   "source": [
    "import pandas as pd\n",
    "from matplotlib import pyplot as plt\n",
    "import cv2\n",
    "import os"
   ]
  },
  {
   "cell_type": "code",
   "execution_count": 2,
   "id": "bc330570",
   "metadata": {},
   "outputs": [],
   "source": [
    "def PathToFile(file, path):\n",
    "    df = pd.DataFrame(columns = [\"x\", \"y\"], data = path)\n",
    "    df.to_csv(file, index=False)"
   ]
  },
  {
   "cell_type": "code",
   "execution_count": 3,
   "id": "5d73471a",
   "metadata": {},
   "outputs": [],
   "source": [
    "def Line2(start, end, line):\n",
    "    d = dist(start, end)\n",
    "    step = 0.25\n",
    "    r = int(d/step)\n",
    "    \n",
    "    for i in range(r+1):\n",
    "        x = start[0] + (end[0]-start[0])*i/r\n",
    "        y = start[1] + (end[1]-start[1])*i/r\n",
    "        line.append([round(x,1),round(y,1)])\n",
    "\n",
    "            \n",
    "    PathToFile(\"Output.csv\", line)"
   ]
  },
  {
   "cell_type": "code",
   "execution_count": 4,
   "id": "43e086aa",
   "metadata": {},
   "outputs": [],
   "source": [
    "def Line3(start, end, line):\n",
    "    \n",
    "    line.append(start)\n",
    "    line.append(end)\n",
    "    print(line)\n",
    "            \n",
    "    PathToFile(\"Output.csv\", line)"
   ]
  },
  {
   "cell_type": "code",
   "execution_count": 5,
   "id": "169f553e",
   "metadata": {},
   "outputs": [],
   "source": [
    "def dist(start, end):\n",
    "    dist=pow(pow(start[0]-end[0],2)+pow(start[1]-end[1],2),0.5)\n",
    "    return dist"
   ]
  },
  {
   "cell_type": "code",
   "execution_count": 6,
   "id": "56424018",
   "metadata": {},
   "outputs": [],
   "source": [
    "def LinearPath(l):\n",
    "    line = []\n",
    "    for i in range (0, len(l)-1):\n",
    "        Line2(l[i], l[i+1], line)\n",
    "    PathToFile(\"Output.csv\", line)\n",
    "    print(line)"
   ]
  },
  {
   "cell_type": "code",
   "execution_count": 7,
   "id": "78d72213",
   "metadata": {},
   "outputs": [],
   "source": [
    "def Circle(r, line): \n",
    "    theta = np.linspace( 0 , 2 * np.pi , 360 )\n",
    "    radius = r\n",
    "    a = radius * np.cos( theta )\n",
    "    b = radius * np.sin( theta )\n",
    "    for i in range(0,len(a)):\n",
    "        line.append([round(a[i],3),round(b[i],3)])\n",
    "        plt.scatter(round(a[i],3),round(b[i],3))\n",
    "    PathToFile(\"Output.csv\", line)\n",
    "    print(line)"
   ]
  },
  {
   "cell_type": "code",
   "execution_count": 8,
   "id": "e2a56ad1",
   "metadata": {},
   "outputs": [],
   "source": [
    "def StartPoint(corners):\n",
    "    x_min = 100000\n",
    "    y_min = 100000\n",
    "    y_max = 0\n",
    "    x_max = 0\n",
    "    count = 0\n",
    "    for corner in corners:\n",
    "        x,y= corner[0]\n",
    "        x= int((x))\n",
    "        y= int((y))\n",
    "    \n",
    "    #START POINT LOCATER\n",
    "    \n",
    "        if(x<x_min):\n",
    "            x_min = x\n",
    "            y_min = y\n",
    "            \n",
    "        if(y>y_max):\n",
    "            y_max = y\n",
    "            x_max = x\n",
    "            SP_index = count\n",
    "        count += 1\n",
    "        \n",
    "    SP = [x_max, y_max]\n",
    "    SP_index\n",
    "    #END START POINT LOCATION\n",
    "    return SP_index"
   ]
  },
  {
   "cell_type": "code",
   "execution_count": 9,
   "id": "b766c0b9",
   "metadata": {},
   "outputs": [],
   "source": [
    "def ValidateEdge(x1, x2, y1, y2, canny):\n",
    "    #print(canny2[201+52])\n",
    "    #find y's midpoint\n",
    "    #[[[680.  52.]][[151. 544.]][[603. 454.]] [[228. 142.]]]\n",
    "    m_y = int((y1+y2)/2)\n",
    "    #now x\n",
    "    m_x = int((x1+x2)/2)\n",
    "    arr = []\n",
    "    check_arr = []\n",
    "    arr = canny[m_y]\n",
    "    for x in range(m_x-5, m_x+5):\n",
    "        check_arr.append(arr[x])\n",
    "    \n",
    "    flag = False\n",
    "    for y in check_arr:\n",
    "        if(y == 255):\n",
    "            flag = True\n",
    "        \n",
    "    return flag"
   ]
  },
  {
   "cell_type": "code",
   "execution_count": 68,
   "id": "9f5fe3a3",
   "metadata": {},
   "outputs": [],
   "source": [
    "def GetAllEdges(corn, canny):\n",
    "    index1 = 0\n",
    "    index2 = 0\n",
    "    edges = []\n",
    "    included = False\n",
    "    for c1 in corn:\n",
    "        index2 = 0\n",
    "        for c2 in corn:\n",
    "            if(c1[0][0] != c2[0][0] or c1[0][1] != c2[0][1]):\n",
    "                if(ValidateEdge(c1[0][0], c2[0][0], c1[0][1], c2[0][1], canny) == True):\n",
    "                    #edges.append([index1, index2])\n",
    "                    if(len(edges) != 0):\n",
    "                        for e in edges:\n",
    "                            if((e[0] == index1 or e[0] == index2) and (e[1] == index1 or e[1] == index2)):\n",
    "                                included = True\n",
    "                        if(included == False):\n",
    "                            edges.append([index1, index2])\n",
    "                    else:\n",
    "                        edges.append([index1, index2])\n",
    "                    included = False\n",
    "            index2 += 1\n",
    "        index1 += 1\n",
    "    return edges"
   ]
  },
  {
   "cell_type": "code",
   "execution_count": 11,
   "id": "423e4244",
   "metadata": {},
   "outputs": [],
   "source": [
    "def GetPath(edges, SP_index):\n",
    "    visited = []\n",
    "    index = SP_index\n",
    "    next_index = index\n",
    "    enter = False\n",
    "\n",
    "    while(len(edges) != 0):\n",
    "        for e in edges:\n",
    "            if(e[0]==next_index):\n",
    "                next_index = e[1]\n",
    "                visited.append(e)\n",
    "                edges.remove(e)\n",
    "            elif(e[1]==next_index):\n",
    "                next_index = e[0]\n",
    "                visited.append([e[1],e[0]])\n",
    "                edges.remove(e)\n",
    "            else:\n",
    "                enter = True\n",
    "    return visited"
   ]
  },
  {
   "cell_type": "code",
   "execution_count": 12,
   "id": "316b11f4",
   "metadata": {},
   "outputs": [],
   "source": [
    "def PathCoordinates(corners, visited):\n",
    "    path = []\n",
    "    for v in visited:\n",
    "        path.append([corners[v[0]][0][0], corners[v[0]][0][1]])\n",
    "    \n",
    "    path.append(path[0])    \n",
    "    return path"
   ]
  },
  {
   "cell_type": "code",
   "execution_count": 59,
   "id": "01db6daf",
   "metadata": {},
   "outputs": [],
   "source": [
    "def GetAllCorners(image_name):\n",
    "    image_path = os.path.join('Pictures',image_name)\n",
    "    img = cv2.imread(image_path)\n",
    "    gray = cv2.cvtColor(img, cv2.COLOR_BGR2GRAY)\n",
    "    blur = cv2.GaussianBlur(gray, (5,5), 0)\n",
    "    canny = cv2.Canny(blur, threshold1 = 180, threshold2 = 200)\n",
    "    resize_image = cv2.resize(canny, (int(img.shape[1]/2), int(img.shape[0]/2)))\n",
    "    corners= cv2.goodFeaturesToTrack(gray, 100, 0.1, 30)\n",
    "    return corners"
   ]
  },
  {
   "cell_type": "code",
   "execution_count": 139,
   "id": "1bfd1392",
   "metadata": {},
   "outputs": [],
   "source": [
    "def GetAllCurvedCorners(image_name):\n",
    "    image_path = os.path.join('Pictures',image_name)\n",
    "    img = cv2.imread(image_path)\n",
    "    gray = cv2.cvtColor(img, cv2.COLOR_BGR2GRAY)\n",
    "    blur = cv2.GaussianBlur(gray, (5,5), 0)\n",
    "    canny = cv2.Canny(blur, threshold1 = 180, threshold2 = 200)\n",
    "    resize_image = cv2.resize(canny, (int(img.shape[1]/2), int(img.shape[0]/2)))\n",
    "    corners= cv2.goodFeaturesToTrack(gray, 200, 0.003, 20)\n",
    "    return corners"
   ]
  },
  {
   "cell_type": "code",
   "execution_count": 14,
   "id": "02596fdf",
   "metadata": {},
   "outputs": [],
   "source": [
    "def GetCanny(image_name):\n",
    "    image_path = os.path.join('Pictures',image_name)\n",
    "    img = cv2.imread(image_path)\n",
    "    gray = cv2.cvtColor(img, cv2.COLOR_BGR2GRAY)\n",
    "    blur = cv2.GaussianBlur(gray, (5,5), 0)\n",
    "    canny = cv2.Canny(blur, threshold1 = 180, threshold2 = 200)\n",
    "    return canny"
   ]
  },
  {
   "cell_type": "code",
   "execution_count": 15,
   "id": "b96d3f19",
   "metadata": {},
   "outputs": [],
   "source": [
    "def GetFileName(image_name):\n",
    "    x = image_name.split(\".\")\n",
    "    y = []\n",
    "    y.append(x[0])\n",
    "    y.append('.csv')\n",
    "    file = \"\"+y[0]+\"\"+y[1]\n",
    "    return file"
   ]
  },
  {
   "cell_type": "markdown",
   "id": "cc15c542",
   "metadata": {},
   "source": [
    "<h1>Pathing Algorithm Developement<h1>"
   ]
  },
  {
   "cell_type": "code",
   "execution_count": 79,
   "id": "6d13608a",
   "metadata": {},
   "outputs": [
    {
     "data": {
      "image/png": "[encoded data removed]",
      "text/plain": [
       "<Figure size 640x480 with 1 Axes>"
      ]
     },
     "metadata": {},
     "output_type": "display_data"
    }
   ],
   "source": [
    "image_path = os.path.join('Pictures','heart.png')\n",
    "img = cv2.imread(image_path)\n",
    "gray = cv2.cvtColor(img, cv2.COLOR_BGR2GRAY)\n",
    "plt.imshow(gray)\n",
    "blur = cv2.GaussianBlur(gray, (5,5), 0)"
   ]
  },
  {
   "cell_type": "code",
   "execution_count": 80,
   "id": "eded75a2",
   "metadata": {},
   "outputs": [
    {
     "data": {
      "text/plain": [
       "<matplotlib.image.AxesImage at 0x1446ccec2b0>"
      ]
     },
     "execution_count": 80,
     "metadata": {},
     "output_type": "execute_result"
    },
    {
     "data": {
      "image/png": "[encoded data removed]",
      "text/plain": [
       "<Figure size 640x480 with 1 Axes>"
      ]
     },
     "metadata": {},
     "output_type": "display_data"
    }
   ],
   "source": [
    "blur = cv2.GaussianBlur(gray, (5,5), 0)\n",
    "canny = cv2.Canny(blur, threshold1 = 180, threshold2 = 200)\n",
    "resize_image = cv2.resize(canny, (int(img.shape[1]/2), int(img.shape[0]/2)))\n",
    "cv2.imshow('Frame View', resize_image)\n",
    "plt.imshow(resize_image)"
   ]
  },
  {
   "cell_type": "code",
   "execution_count": 154,
   "id": "e2e2f756",
   "metadata": {},
   "outputs": [
    {
     "name": "stdout",
     "output_type": "stream",
     "text": [
      "17\n"
     ]
    }
   ],
   "source": [
    "corners= cv2.goodFeaturesToTrack(gray, 200, .00325, 17)\n",
    "print(len(corners))"
   ]
  },
  {
   "cell_type": "code",
   "execution_count": 155,
   "id": "15828950",
   "metadata": {},
   "outputs": [
    {
     "name": "stdout",
     "output_type": "stream",
     "text": [
      "15\n"
     ]
    }
   ],
   "source": [
    "edges = GetAllEdges(corners, canny)\n",
    "print(len(edges))"
   ]
  },
  {
   "cell_type": "code",
   "execution_count": null,
   "id": "f7220238",
   "metadata": {},
   "outputs": [],
   "source": []
  },
  {
   "cell_type": "code",
   "execution_count": 141,
   "id": "04afd292",
   "metadata": {},
   "outputs": [],
   "source": [
    "SP_index = StartPoint(corners)"
   ]
  },
  {
   "cell_type": "markdown",
   "id": "b402a050",
   "metadata": {},
   "source": [
    "1. Find Edge with Start Point inside\n",
    "2. Move to next edge\n",
    "3. ALL other edges can only move one direction in simple figures"
   ]
  },
  {
   "cell_type": "code",
   "execution_count": 142,
   "id": "5ee47107",
   "metadata": {},
   "outputs": [
    {
     "name": "stdout",
     "output_type": "stream",
     "text": [
      "1\n",
      "[[0, 14], [0, 15], [2, 8], [2, 10], [2, 11], [3, 5], [3, 9], [3, 10], [3, 11], [3, 16], [6, 14], [7, 15], [8, 12], [9, 13], [9, 16], [11, 16], [13, 16]]\n"
     ]
    },
    {
     "ename": "KeyboardInterrupt",
     "evalue": "",
     "output_type": "error",
     "traceback": [
      "\u001b[1;31m---------------------------------------------------------------------------\u001b[0m",
      "\u001b[1;31mKeyboardInterrupt\u001b[0m                         Traceback (most recent call last)",
      "\u001b[1;32m~\\AppData\\Local\\Temp\\ipykernel_18052\\444775605.py\u001b[0m in \u001b[0;36m<module>\u001b[1;34m\u001b[0m\n\u001b[0;32m     11\u001b[0m             \u001b[0mvisited\u001b[0m\u001b[1;33m.\u001b[0m\u001b[0mappend\u001b[0m\u001b[1;33m(\u001b[0m\u001b[0me\u001b[0m\u001b[1;33m)\u001b[0m\u001b[1;33m\u001b[0m\u001b[1;33m\u001b[0m\u001b[0m\n\u001b[0;32m     12\u001b[0m             \u001b[0medges\u001b[0m\u001b[1;33m.\u001b[0m\u001b[0mremove\u001b[0m\u001b[1;33m(\u001b[0m\u001b[0me\u001b[0m\u001b[1;33m)\u001b[0m\u001b[1;33m\u001b[0m\u001b[1;33m\u001b[0m\u001b[0m\n\u001b[1;32m---> 13\u001b[1;33m         \u001b[1;32melif\u001b[0m\u001b[1;33m(\u001b[0m\u001b[0me\u001b[0m\u001b[1;33m[\u001b[0m\u001b[1;36m1\u001b[0m\u001b[1;33m]\u001b[0m\u001b[1;33m==\u001b[0m\u001b[0mnext_index\u001b[0m\u001b[1;33m)\u001b[0m\u001b[1;33m:\u001b[0m\u001b[1;33m\u001b[0m\u001b[1;33m\u001b[0m\u001b[0m\n\u001b[0m\u001b[0;32m     14\u001b[0m             \u001b[0mnext_index\u001b[0m \u001b[1;33m=\u001b[0m \u001b[0me\u001b[0m\u001b[1;33m[\u001b[0m\u001b[1;36m0\u001b[0m\u001b[1;33m]\u001b[0m\u001b[1;33m\u001b[0m\u001b[1;33m\u001b[0m\u001b[0m\n\u001b[0;32m     15\u001b[0m             \u001b[0mvisited\u001b[0m\u001b[1;33m.\u001b[0m\u001b[0mappend\u001b[0m\u001b[1;33m(\u001b[0m\u001b[1;33m[\u001b[0m\u001b[0me\u001b[0m\u001b[1;33m[\u001b[0m\u001b[1;36m1\u001b[0m\u001b[1;33m]\u001b[0m\u001b[1;33m,\u001b[0m\u001b[0me\u001b[0m\u001b[1;33m[\u001b[0m\u001b[1;36m0\u001b[0m\u001b[1;33m]\u001b[0m\u001b[1;33m]\u001b[0m\u001b[1;33m)\u001b[0m\u001b[1;33m\u001b[0m\u001b[1;33m\u001b[0m\u001b[0m\n",
      "\u001b[1;31mKeyboardInterrupt\u001b[0m: "
     ]
    }
   ],
   "source": [
    "visited = []\n",
    "index = SP_index\n",
    "next_index = index\n",
    "enter = False\n",
    "print(index)\n",
    "print(edges)\n",
    "while(len(edges) != 0):\n",
    "    for e in edges:\n",
    "        if(e[0]==next_index):\n",
    "            next_index = e[1]\n",
    "            visited.append(e)\n",
    "            edges.remove(e)\n",
    "        elif(e[1]==next_index):\n",
    "            next_index = e[0]\n",
    "            visited.append([e[1],e[0]])\n",
    "            edges.remove(e)\n",
    "        else:\n",
    "            enter = True\n",
    "print(visited)"
   ]
  },
  {
   "cell_type": "code",
   "execution_count": null,
   "id": "c218b8c9",
   "metadata": {},
   "outputs": [],
   "source": [
    "path = []\n",
    "path.append((corners[0][0][0]))\n",
    "path.append((corners[0][0][1]))\n",
    "path.append((corners[1][0][0]))\n",
    "path.append((corners[1][0][1]))\n",
    "    \n",
    "print(path)"
   ]
  },
  {
   "cell_type": "code",
   "execution_count": 76,
   "id": "7e3f185a",
   "metadata": {},
   "outputs": [
    {
     "name": "stdout",
     "output_type": "stream",
     "text": [
      "[[168.0, 499.0], [383.0, 499.0], [450.0, 257.0], [276.0, 107.0], [101.0, 257.0], [168.0, 499.0]]\n"
     ]
    }
   ],
   "source": [
    "path = []\n",
    "for v in visited:\n",
    "    path.append([corners[v[0]][0][0], corners[v[0]][0][1]])\n",
    "    \n",
    "path.append(path[0])    \n",
    "print(path)"
   ]
  },
  {
   "cell_type": "markdown",
   "id": "9035b158",
   "metadata": {},
   "source": [
    "The following is reiterated so that edges is not emptied"
   ]
  },
  {
   "cell_type": "code",
   "execution_count": 24,
   "id": "18fcd34e",
   "metadata": {},
   "outputs": [
    {
     "name": "stdout",
     "output_type": "stream",
     "text": [
      "[[0, 4], [1, 3], [2, 3], [2, 4]]\n"
     ]
    }
   ],
   "source": [
    "edges = GetAllEdges(corners, canny)\n",
    "print(edges)"
   ]
  },
  {
   "cell_type": "code",
   "execution_count": 25,
   "id": "89ef9485",
   "metadata": {},
   "outputs": [],
   "source": [
    "SP_index = StartPoint(corners)"
   ]
  },
  {
   "cell_type": "code",
   "execution_count": 26,
   "id": "bd08fc3e",
   "metadata": {},
   "outputs": [
    {
     "name": "stdout",
     "output_type": "stream",
     "text": [
      "[[0, 4], [1, 3], [2, 3], [2, 4]]\n",
      "0\n",
      "[[0, 4], [4, 2], [2, 3], [3, 1]]\n"
     ]
    }
   ],
   "source": [
    "print(edges)\n",
    "print(SP_index)\n",
    "visited = GetPath(edges, SP_index)\n",
    "print(visited)"
   ]
  },
  {
   "cell_type": "code",
   "execution_count": 27,
   "id": "dfdea889",
   "metadata": {},
   "outputs": [
    {
     "name": "stdout",
     "output_type": "stream",
     "text": [
      "[[168.0, 499.0], [101.0, 257.0], [276.0, 107.0], [450.0, 257.0], [168.0, 499.0]]\n"
     ]
    }
   ],
   "source": [
    "path = PathCoordinates(corners, visited)\n",
    "print(path)"
   ]
  },
  {
   "cell_type": "code",
   "execution_count": 28,
   "id": "a007c550",
   "metadata": {},
   "outputs": [
    {
     "name": "stdout",
     "output_type": "stream",
     "text": [
      "[[[680.  52.]]\n",
      "\n",
      " [[151. 544.]]\n",
      "\n",
      " [[603. 454.]]\n",
      "\n",
      " [[228. 142.]]]\n"
     ]
    }
   ],
   "source": [
    "corners = GetAllCorners('rhombus.png')\n",
    "print(corners)"
   ]
  },
  {
   "cell_type": "markdown",
   "id": "55a928f2",
   "metadata": {},
   "source": [
    "<h1>Simple Geometric Figures Working Code<h1>"
   ]
  },
  {
   "cell_type": "code",
   "execution_count": 29,
   "id": "2788ac59",
   "metadata": {},
   "outputs": [
    {
     "name": "stdout",
     "output_type": "stream",
     "text": [
      "[[151.0, 544.0], [603.0, 454.0], [680.0, 52.0], [228.0, 142.0], [151.0, 544.0]]\n"
     ]
    }
   ],
   "source": [
    "Pic_Name = 'rhombus.png'\n",
    "corners = GetAllCorners(Pic_Name)\n",
    "canny = GetCanny(Pic_Name)\n",
    "edges = GetAllEdges(corners, canny)\n",
    "StartPoint_Index = StartPoint(corners)\n",
    "visited = GetPath(edges, StartPoint_Index)\n",
    "path = PathCoordinates(corners, visited)\n",
    "file = GetFileName(Pic_Name)\n",
    "PathToFile(file, path)\n",
    "\n",
    "print(path)"
   ]
  },
  {
   "cell_type": "markdown",
   "id": "e16936e0",
   "metadata": {},
   "source": [
    "<h1>Variance Testing<h1>"
   ]
  },
  {
   "cell_type": "code",
   "execution_count": 30,
   "id": "bb2d19f0",
   "metadata": {},
   "outputs": [
    {
     "name": "stdout",
     "output_type": "stream",
     "text": [
      "[[151.0, 544.0], [603.0, 454.0], [680.0, 52.0], [228.0, 142.0], [151.0, 544.0]]\n"
     ]
    }
   ],
   "source": [
    "print(path)"
   ]
  },
  {
   "cell_type": "code",
   "execution_count": 31,
   "id": "ec7af2bb",
   "metadata": {},
   "outputs": [
    {
     "name": "stdout",
     "output_type": "stream",
     "text": [
      "255\n",
      "255\n",
      "255\n",
      "255\n"
     ]
    }
   ],
   "source": [
    "print(canny[int(path[0][1])][int(path[0][0])])\n",
    "print(canny[int(path[1][1])][int(path[1][0])])\n",
    "print(canny[int(path[2][1])][int(path[2][0])])\n",
    "print(canny[int(path[3][1])][int(path[3][0])])"
   ]
  },
  {
   "cell_type": "markdown",
   "id": "bb0f6fba",
   "metadata": {},
   "source": [
    "<h3>Rhombus Variance<h3>"
   ]
  },
  {
   "cell_type": "code",
   "execution_count": 32,
   "id": "82fdc94a",
   "metadata": {},
   "outputs": [
    {
     "name": "stdout",
     "output_type": "stream",
     "text": [
      "0\n",
      "255\n",
      "255\n",
      "255\n"
     ]
    }
   ],
   "source": [
    "print(canny[int(path[0][1])][int(path[0][0])-1])\n",
    "print(canny[int(path[1][1])][int(path[1][0])+1])\n",
    "print(canny[int(path[2][1])][int(path[2][0])+1])\n",
    "print(canny[int(path[3][1])][int(path[3][0])-1])"
   ]
  },
  {
   "cell_type": "code",
   "execution_count": 33,
   "id": "6a35ef80",
   "metadata": {},
   "outputs": [
    {
     "name": "stdout",
     "output_type": "stream",
     "text": [
      "0\n",
      "0\n",
      "0\n",
      "0\n"
     ]
    }
   ],
   "source": [
    "print(canny[int(path[0][1])][int(path[0][0])-1])\n",
    "print(canny[int(path[1][1])][int(path[1][0])+2])\n",
    "print(canny[int(path[2][1])][int(path[2][0])+2])\n",
    "print(canny[int(path[3][1])][int(path[3][0])-2])"
   ]
  },
  {
   "cell_type": "markdown",
   "id": "ce7e415b",
   "metadata": {},
   "source": [
    "1. Points 0 and 3 are the upper two corners of the rhombus, the row value has to be subtracted from\n",
    "2. Points 1 and 2 are the lower two corners of the rhombus, the row value has to be added to"
   ]
  },
  {
   "cell_type": "code",
   "execution_count": 34,
   "id": "e5f0822b",
   "metadata": {},
   "outputs": [
    {
     "name": "stdout",
     "output_type": "stream",
     "text": [
      "0\n",
      "255\n",
      "0\n",
      "255\n"
     ]
    }
   ],
   "source": [
    "print(canny[int(path[0][1])+1][int(path[0][0])])\n",
    "print(canny[int(path[1][1])+1][int(path[1][0])])\n",
    "print(canny[int(path[2][1])-1][int(path[2][0])])\n",
    "print(canny[int(path[3][1])-1][int(path[3][0])])"
   ]
  },
  {
   "cell_type": "code",
   "execution_count": 35,
   "id": "65f0b49e",
   "metadata": {},
   "outputs": [
    {
     "name": "stdout",
     "output_type": "stream",
     "text": [
      "0\n",
      "0\n",
      "0\n",
      "0\n"
     ]
    }
   ],
   "source": [
    "print(canny[int(path[0][1])+1][int(path[0][0])])\n",
    "print(canny[int(path[1][1])+2][int(path[1][0])])\n",
    "print(canny[int(path[2][1])-1][int(path[2][0])])\n",
    "print(canny[int(path[3][1])-2][int(path[3][0])])"
   ]
  },
  {
   "cell_type": "markdown",
   "id": "1c613803",
   "metadata": {},
   "source": [
    "1. Points 0 and 1 are the right two corners of the rhombus, the col value has to be added to\n",
    "2. Points 2 and 3 are the left two corners of the rhombus, the col value has to be subtracted from"
   ]
  },
  {
   "cell_type": "markdown",
   "id": "809bea39",
   "metadata": {},
   "source": [
    "There are four points to test the variance of"
   ]
  },
  {
   "cell_type": "markdown",
   "id": "c2ab5709",
   "metadata": {},
   "source": [
    "1. We will consider a point that has a 0 value 1 pixel away to have a variance of zero\n",
    "2. the value will have +1 added to it for each additional pixel from that point\n",
    "3. the Mean Difference for the Rows is (0+1+1+1)/4 = .75\n",
    "4. The Mean Difference for the Columns is (0+1+0+1)/4 = .5\n",
    "5. Variance = sum(mean-all points)^2/sample size\n",
    "    a. Rows: (.25^2+.25^2+.25^2+.75^2)/4 = .1875\n",
    "    b. Cols: (.5^2+.5^2+.5^2+.5^2)/4 = .25\n",
    "    c. overall: sqrt(.1875^2+.25^2) = .3125\n",
    "6. Standard Deviation = sqrt(.3125) = 0.09765625"
   ]
  },
  {
   "cell_type": "markdown",
   "id": "4b719040",
   "metadata": {},
   "source": [
    "<h3>Triangle<h3>"
   ]
  },
  {
   "cell_type": "code",
   "execution_count": 156,
   "id": "da3345c4",
   "metadata": {},
   "outputs": [
    {
     "name": "stdout",
     "output_type": "stream",
     "text": [
      "[[393.0, 421.0], [148.0, 372.0], [319.0, 156.0], [393.0, 421.0]]\n"
     ]
    }
   ],
   "source": [
    "Pic_Name = 'equi_triangle.png'\n",
    "corners = GetAllCorners(Pic_Name)\n",
    "canny = GetCanny(Pic_Name)\n",
    "edges = GetAllEdges(corners, canny)\n",
    "StartPoint_Index = StartPoint(corners)\n",
    "visited = GetPath(edges, StartPoint_Index)\n",
    "path = PathCoordinates(corners, visited)\n",
    "file = GetFileName(Pic_Name)\n",
    "PathToFile(file, path)\n",
    "\n",
    "print(path)"
   ]
  },
  {
   "cell_type": "markdown",
   "id": "91c34297",
   "metadata": {},
   "source": [
    "<h3>Pentagon<h3>"
   ]
  },
  {
   "cell_type": "code",
   "execution_count": 157,
   "id": "872269ed",
   "metadata": {},
   "outputs": [
    {
     "name": "stdout",
     "output_type": "stream",
     "text": [
      "[[168.0, 499.0], [383.0, 499.0], [450.0, 257.0], [276.0, 107.0], [101.0, 257.0], [168.0, 499.0]]\n"
     ]
    }
   ],
   "source": [
    "Pic_Name = 'pentagon.png'\n",
    "corners = GetAllCorners(Pic_Name)\n",
    "canny = GetCanny(Pic_Name)\n",
    "edges = GetAllEdges(corners, canny)\n",
    "StartPoint_Index = StartPoint(corners)\n",
    "visited = GetPath(edges, StartPoint_Index)\n",
    "path = PathCoordinates(corners, visited)\n",
    "file = GetFileName(Pic_Name)\n",
    "PathToFile(file, path)\n",
    "\n",
    "print(path)"
   ]
  },
  {
   "cell_type": "code",
   "execution_count": 158,
   "id": "ac9f933a",
   "metadata": {},
   "outputs": [
    {
     "name": "stdout",
     "output_type": "stream",
     "text": [
      "[[108.0, 439.0], [259.0, 318.0], [299.0, 136.0], [338.0, 318.0], [489.0, 439.0], [299.0, 379.0], [108.0, 439.0]]\n"
     ]
    }
   ],
   "source": [
    "Pic_Name = 'star3.png'\n",
    "corners = GetAllCorners(Pic_Name)\n",
    "canny = GetCanny(Pic_Name)\n",
    "edges = GetAllEdges(corners, canny)\n",
    "StartPoint_Index = StartPoint(corners)\n",
    "visited = GetPath(edges, StartPoint_Index)\n",
    "path = PathCoordinates(corners, visited)\n",
    "file = GetFileName(Pic_Name)\n",
    "PathToFile(file, path)\n",
    "\n",
    "print(path)"
   ]
  },
  {
   "cell_type": "code",
   "execution_count": 159,
   "id": "c7e9c1b5",
   "metadata": {},
   "outputs": [
    {
     "name": "stdout",
     "output_type": "stream",
     "text": [
      "[[214.0, 485.0], [239.0, 326.0], [104.0, 234.0], [266.0, 262.0], [358.0, 129.0], [332.0, 289.0], [467.0, 381.0], [305.0, 353.0], [214.0, 485.0]]\n"
     ]
    }
   ],
   "source": [
    "Pic_Name = 'star4.png'\n",
    "corners = GetAllCorners(Pic_Name)\n",
    "canny = GetCanny(Pic_Name)\n",
    "edges = GetAllEdges(corners, canny)\n",
    "StartPoint_Index = StartPoint(corners)\n",
    "visited = GetPath(edges, StartPoint_Index)\n",
    "path = PathCoordinates(corners, visited)\n",
    "file = GetFileName(Pic_Name)\n",
    "PathToFile(file, path)\n",
    "\n",
    "print(path)"
   ]
  },
  {
   "cell_type": "code",
   "execution_count": 160,
   "id": "393b306c",
   "metadata": {},
   "outputs": [
    {
     "ename": "KeyboardInterrupt",
     "evalue": "",
     "output_type": "error",
     "traceback": [
      "\u001b[1;31m---------------------------------------------------------------------------\u001b[0m",
      "\u001b[1;31mKeyboardInterrupt\u001b[0m                         Traceback (most recent call last)",
      "\u001b[1;32m~\\AppData\\Local\\Temp\\ipykernel_18052\\3201731510.py\u001b[0m in \u001b[0;36m<module>\u001b[1;34m\u001b[0m\n\u001b[0;32m      4\u001b[0m \u001b[0medges\u001b[0m \u001b[1;33m=\u001b[0m \u001b[0mGetAllEdges\u001b[0m\u001b[1;33m(\u001b[0m\u001b[0mcorners\u001b[0m\u001b[1;33m,\u001b[0m \u001b[0mcanny\u001b[0m\u001b[1;33m)\u001b[0m\u001b[1;33m\u001b[0m\u001b[1;33m\u001b[0m\u001b[0m\n\u001b[0;32m      5\u001b[0m \u001b[0mStartPoint_Index\u001b[0m \u001b[1;33m=\u001b[0m \u001b[0mStartPoint\u001b[0m\u001b[1;33m(\u001b[0m\u001b[0mcorners\u001b[0m\u001b[1;33m)\u001b[0m\u001b[1;33m\u001b[0m\u001b[1;33m\u001b[0m\u001b[0m\n\u001b[1;32m----> 6\u001b[1;33m \u001b[0mvisited\u001b[0m \u001b[1;33m=\u001b[0m \u001b[0mGetPath\u001b[0m\u001b[1;33m(\u001b[0m\u001b[0medges\u001b[0m\u001b[1;33m,\u001b[0m \u001b[0mStartPoint_Index\u001b[0m\u001b[1;33m)\u001b[0m\u001b[1;33m\u001b[0m\u001b[1;33m\u001b[0m\u001b[0m\n\u001b[0m\u001b[0;32m      7\u001b[0m \u001b[0mpath\u001b[0m \u001b[1;33m=\u001b[0m \u001b[0mPathCoordinates\u001b[0m\u001b[1;33m(\u001b[0m\u001b[0mcorners\u001b[0m\u001b[1;33m,\u001b[0m \u001b[0mvisited\u001b[0m\u001b[1;33m)\u001b[0m\u001b[1;33m\u001b[0m\u001b[1;33m\u001b[0m\u001b[0m\n\u001b[0;32m      8\u001b[0m \u001b[0mfile\u001b[0m \u001b[1;33m=\u001b[0m \u001b[0mGetFileName\u001b[0m\u001b[1;33m(\u001b[0m\u001b[0mPic_Name\u001b[0m\u001b[1;33m)\u001b[0m\u001b[1;33m\u001b[0m\u001b[1;33m\u001b[0m\u001b[0m\n",
      "\u001b[1;32m~\\AppData\\Local\\Temp\\ipykernel_18052\\1365372610.py\u001b[0m in \u001b[0;36mGetPath\u001b[1;34m(edges, SP_index)\u001b[0m\n\u001b[0;32m     11\u001b[0m                 \u001b[0mvisited\u001b[0m\u001b[1;33m.\u001b[0m\u001b[0mappend\u001b[0m\u001b[1;33m(\u001b[0m\u001b[0me\u001b[0m\u001b[1;33m)\u001b[0m\u001b[1;33m\u001b[0m\u001b[1;33m\u001b[0m\u001b[0m\n\u001b[0;32m     12\u001b[0m                 \u001b[0medges\u001b[0m\u001b[1;33m.\u001b[0m\u001b[0mremove\u001b[0m\u001b[1;33m(\u001b[0m\u001b[0me\u001b[0m\u001b[1;33m)\u001b[0m\u001b[1;33m\u001b[0m\u001b[1;33m\u001b[0m\u001b[0m\n\u001b[1;32m---> 13\u001b[1;33m             \u001b[1;32melif\u001b[0m\u001b[1;33m(\u001b[0m\u001b[0me\u001b[0m\u001b[1;33m[\u001b[0m\u001b[1;36m1\u001b[0m\u001b[1;33m]\u001b[0m\u001b[1;33m==\u001b[0m\u001b[0mnext_index\u001b[0m\u001b[1;33m)\u001b[0m\u001b[1;33m:\u001b[0m\u001b[1;33m\u001b[0m\u001b[1;33m\u001b[0m\u001b[0m\n\u001b[0m\u001b[0;32m     14\u001b[0m                 \u001b[0mnext_index\u001b[0m \u001b[1;33m=\u001b[0m \u001b[0me\u001b[0m\u001b[1;33m[\u001b[0m\u001b[1;36m0\u001b[0m\u001b[1;33m]\u001b[0m\u001b[1;33m\u001b[0m\u001b[1;33m\u001b[0m\u001b[0m\n\u001b[0;32m     15\u001b[0m                 \u001b[0mvisited\u001b[0m\u001b[1;33m.\u001b[0m\u001b[0mappend\u001b[0m\u001b[1;33m(\u001b[0m\u001b[1;33m[\u001b[0m\u001b[0me\u001b[0m\u001b[1;33m[\u001b[0m\u001b[1;36m1\u001b[0m\u001b[1;33m]\u001b[0m\u001b[1;33m,\u001b[0m\u001b[0me\u001b[0m\u001b[1;33m[\u001b[0m\u001b[1;36m0\u001b[0m\u001b[1;33m]\u001b[0m\u001b[1;33m]\u001b[0m\u001b[1;33m)\u001b[0m\u001b[1;33m\u001b[0m\u001b[1;33m\u001b[0m\u001b[0m\n",
      "\u001b[1;31mKeyboardInterrupt\u001b[0m: "
     ]
    }
   ],
   "source": [
    "Pic_Name = 'heart.png'\n",
    "corners = GetAllCurvedCorners(Pic_Name)\n",
    "canny = GetCanny(Pic_Name)\n",
    "edges = GetAllEdges(corners, canny)\n",
    "StartPoint_Index = StartPoint(corners)\n",
    "visited = GetPath(edges, StartPoint_Index)\n",
    "path = PathCoordinates(corners, visited)\n",
    "file = GetFileName(Pic_Name)\n",
    "PathToFile(file, path)\n",
    "\n",
    "print(path)"
   ]
  },
  {
   "cell_type": "code",
   "execution_count": null,
   "id": "14d663f3",
   "metadata": {},
   "outputs": [],
   "source": []
  }
 ],
 "metadata": {
  "kernelspec": {
   "display_name": "Python 3 (ipykernel)",
   "language": "python",
   "name": "python3"
  },
  "language_info": {
   "codemirror_mode": {
    "name": "ipython",
    "version": 3
   },
   "file_extension": ".py",
   "mimetype": "text/x-python",
   "name": "python",
   "nbconvert_exporter": "python",
   "pygments_lexer": "ipython3",
   "version": "3.9.13"
  }
 },
 "nbformat": 4,
 "nbformat_minor": 5
}
