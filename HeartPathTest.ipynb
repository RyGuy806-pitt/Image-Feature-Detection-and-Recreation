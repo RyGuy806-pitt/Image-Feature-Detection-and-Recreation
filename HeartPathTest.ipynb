{
 "cells": [
  {
   "cell_type": "code",
   "execution_count": 2,
   "id": "172c331d",
   "metadata": {},
   "outputs": [],
   "source": [
    "import pandas as pd\n",
    "from matplotlib import pyplot as plt\n",
    "import cv2\n",
    "import os"
   ]
  },
  {
   "cell_type": "code",
   "execution_count": 3,
   "id": "b423daf3",
   "metadata": {},
   "outputs": [],
   "source": [
    "def PathToFile(file, path):\n",
    "    df = pd.DataFrame(columns = [\"x\", \"y\"], data = path)\n",
    "    df.to_csv(file, index=False)"
   ]
  },
  {
   "cell_type": "code",
   "execution_count": 4,
   "id": "0eead8cc",
   "metadata": {},
   "outputs": [],
   "source": [
    "def Line2(start, end, line):\n",
    "    d = dist(start, end)\n",
    "    step = 0.25\n",
    "    r = int(d/step)\n",
    "    \n",
    "    for i in range(r+1):\n",
    "        x = start[0] + (end[0]-start[0])*i/r\n",
    "        y = start[1] + (end[1]-start[1])*i/r\n",
    "        line.append([round(x,1),round(y,1)])\n",
    "\n",
    "            \n",
    "    PathToFile(\"Output.csv\", line)"
   ]
  },
  {
   "cell_type": "code",
   "execution_count": 5,
   "id": "78312b67",
   "metadata": {},
   "outputs": [],
   "source": [
    "def Line3(start, end, line):\n",
    "    \n",
    "    line.append(start)\n",
    "    line.append(end)\n",
    "    print(line)\n",
    "            \n",
    "    PathToFile(\"Output.csv\", line)"
   ]
  },
  {
   "cell_type": "code",
   "execution_count": 6,
   "id": "56a7ad99",
   "metadata": {},
   "outputs": [],
   "source": [
    "def dist(start, end):\n",
    "    dist=pow(pow(start[0]-end[0],2)+pow(start[1]-end[1],2),0.5)\n",
    "    return dist"
   ]
  },
  {
   "cell_type": "code",
   "execution_count": 7,
   "id": "09a89971",
   "metadata": {},
   "outputs": [],
   "source": [
    "def LinearPath(l):\n",
    "    line = []\n",
    "    for i in range (0, len(l)-1):\n",
    "        Line2(l[i], l[i+1], line)\n",
    "    PathToFile(\"Output.csv\", line)\n",
    "    print(line)"
   ]
  },
  {
   "cell_type": "code",
   "execution_count": 8,
   "id": "54d8a210",
   "metadata": {},
   "outputs": [],
   "source": [
    "def Circle(r, line): \n",
    "    theta = np.linspace( 0 , 2 * np.pi , 360 )\n",
    "    radius = r\n",
    "    a = radius * np.cos( theta )\n",
    "    b = radius * np.sin( theta )\n",
    "    for i in range(0,len(a)):\n",
    "        line.append([round(a[i],3),round(b[i],3)])\n",
    "        plt.scatter(round(a[i],3),round(b[i],3))\n",
    "    PathToFile(\"Output.csv\", line)\n",
    "    print(line)"
   ]
  },
  {
   "cell_type": "code",
   "execution_count": 9,
   "id": "5917c3fb",
   "metadata": {},
   "outputs": [],
   "source": [
    "def StartPoint(corners):\n",
    "    x_min = 100000\n",
    "    y_min = 100000\n",
    "    y_max = 0\n",
    "    x_max = 0\n",
    "    count = 0\n",
    "    for corner in corners:\n",
    "        x,y= corner[0]\n",
    "        x= int((x))\n",
    "        y= int((y))\n",
    "    \n",
    "    #START POINT LOCATER\n",
    "    \n",
    "        if(x<x_min):\n",
    "            x_min = x\n",
    "            y_min = y\n",
    "            \n",
    "        if(y>y_max):\n",
    "            y_max = y\n",
    "            x_max = x\n",
    "            SP_index = count\n",
    "        count += 1\n",
    "        \n",
    "    SP = [x_max, y_max]\n",
    "    SP_index\n",
    "    #END START POINT LOCATION\n",
    "    return SP_index"
   ]
  },
  {
   "cell_type": "code",
   "execution_count": 10,
   "id": "06d9d582",
   "metadata": {},
   "outputs": [],
   "source": [
    "def ValidateEdge(x1, x2, y1, y2, canny):\n",
    "    #print(canny2[201+52])\n",
    "    #find y's midpoint\n",
    "    #[[[680.  52.]][[151. 544.]][[603. 454.]] [[228. 142.]]]\n",
    "    m_y = int((y1+y2)/2)\n",
    "    m_fy = int((y1+m_y)/2)\n",
    "    m_ty = int((y2+m_y)/2)\n",
    "    #now x\n",
    "    m_x = int((x1+x2)/2)\n",
    "    m_fx = int((x1+m_x)/2)\n",
    "    m_tx = int((x2+m_x)/2)\n",
    "    \n",
    "    n_arr1 = []\n",
    "    arr1 = []\n",
    "    p_arr1 = []\n",
    "    n_arr2 = []\n",
    "    arr2 = []\n",
    "    p_arr2 = []\n",
    "    n_arr3 = []\n",
    "    arr3 = []\n",
    "    p_arr3 = []\n",
    "    \n",
    "    check_arr1 = []\n",
    "    check_arr2 = []\n",
    "    check_arr3 = []\n",
    "    \n",
    "    n_arr1_5 = canny[m_fy-5]\n",
    "    n_arr1_4 = canny[m_fy-4]\n",
    "    n_arr1_3 = canny[m_fy-3]\n",
    "    n_arr1_2 = canny[m_fy-2]\n",
    "    n_arr1_1 = canny[m_fy-1]\n",
    "    arr1 = canny[m_fy]\n",
    "    p_arr1_1 = canny[m_fy+1]\n",
    "    p_arr1_2 = canny[m_fy+2]\n",
    "    p_arr1_3 = canny[m_fy+3]\n",
    "    p_arr1_4 = canny[m_fy+4]\n",
    "    p_arr1_5 = canny[m_fy+5]\n",
    "    \n",
    "    n_arr2_5 = canny[m_y-5]\n",
    "    n_arr2_4 = canny[m_y-4]\n",
    "    n_arr2_3 = canny[m_y-3]\n",
    "    n_arr2_2 = canny[m_y-2]\n",
    "    n_arr2_1 = canny[m_y-1]\n",
    "    arr2 = canny[m_y]\n",
    "    p_arr2_1 = canny[m_y+1]\n",
    "    p_arr2_2 = canny[m_y+2]\n",
    "    p_arr2_3 = canny[m_y+1]\n",
    "    p_arr2_4 = canny[m_y+2]\n",
    "    p_arr2_5 = canny[m_y+1]\n",
    "    \n",
    "    n_arr3_5 = canny[m_ty-5]\n",
    "    n_arr3_4 = canny[m_ty-4]\n",
    "    n_arr3_3 = canny[m_ty-3]\n",
    "    n_arr3_2 = canny[m_ty-2]\n",
    "    n_arr3_1 = canny[m_ty-1]\n",
    "    arr3 = canny[m_ty]\n",
    "    p_arr3_1 = canny[m_ty+1]\n",
    "    p_arr3_2 = canny[m_ty+2]\n",
    "    p_arr3_3 = canny[m_ty+3]\n",
    "    p_arr3_4 = canny[m_ty+4]\n",
    "    p_arr3_5 = canny[m_ty+5]\n",
    "    \n",
    "    for x in range(m_fx-8, m_fx+8):\n",
    "        check_arr1.append(n_arr1_5[x])\n",
    "        check_arr1.append(n_arr1_4[x])\n",
    "        check_arr1.append(n_arr1_3[x])\n",
    "        check_arr1.append(n_arr1_2[x])\n",
    "        check_arr1.append(n_arr1_1[x])\n",
    "        check_arr1.append(arr1[x])\n",
    "        check_arr1.append(p_arr1_1[x])\n",
    "        check_arr1.append(p_arr1_2[x])\n",
    "        check_arr1.append(p_arr1_3[x])\n",
    "        check_arr1.append(p_arr1_4[x])\n",
    "        check_arr1.append(p_arr1_5[x])\n",
    "    \n",
    "    for x in range(m_x-12, m_x+12):\n",
    "        check_arr2.append(n_arr2_5[x])\n",
    "        check_arr2.append(n_arr2_4[x])\n",
    "        check_arr2.append(n_arr2_3[x])\n",
    "        check_arr2.append(n_arr2_2[x])\n",
    "        check_arr2.append(n_arr2_1[x])\n",
    "        check_arr2.append(arr2[x])\n",
    "        check_arr2.append(p_arr2_1[x])\n",
    "        check_arr2.append(p_arr2_2[x])\n",
    "        check_arr2.append(n_arr2_3[x])\n",
    "        check_arr2.append(n_arr2_4[x])\n",
    "        check_arr2.append(n_arr2_5[x])\n",
    "        \n",
    "    for x in range(m_tx-8, m_tx+8):\n",
    "        check_arr3.append(n_arr3_5[x])\n",
    "        check_arr3.append(n_arr3_4[x])\n",
    "        check_arr3.append(n_arr3_3[x])        \n",
    "        check_arr3.append(n_arr3_2[x])\n",
    "        check_arr3.append(n_arr3_1[x])\n",
    "        check_arr3.append(arr3[x])\n",
    "        check_arr3.append(p_arr3_1[x])\n",
    "        check_arr3.append(p_arr3_2[x])\n",
    "        check_arr3.append(p_arr3_3[x])\n",
    "        check_arr3.append(p_arr3_4[x])\n",
    "        check_arr3.append(p_arr3_5[x])\n",
    "        \n",
    "        \n",
    "    flag1 = False\n",
    "    flag2 = False\n",
    "    flag3 = False\n",
    "    \n",
    "    for y in check_arr1:\n",
    "        if(y == 255):\n",
    "            flag1 = True\n",
    "            \n",
    "    for y in check_arr2:\n",
    "        if(y == 255):\n",
    "            flag2 = True\n",
    "            \n",
    "    for y in check_arr3:\n",
    "        if(y == 255):\n",
    "            flag3 = True\n",
    "        \n",
    "    return (flag1 and flag2 and flag3)"
   ]
  },
  {
   "cell_type": "code",
   "execution_count": 11,
   "id": "93e50538",
   "metadata": {},
   "outputs": [],
   "source": [
    "def GetAllEdges(corn, canny):\n",
    "    index1 = 0\n",
    "    index2 = 0\n",
    "    edges = []\n",
    "    included = False\n",
    "    for c1 in corn:\n",
    "        index2 = 0\n",
    "        for c2 in corn:\n",
    "            if(c1[0][0] != c2[0][0] or c1[0][1] != c2[0][1]):\n",
    "                if(ValidateEdge(c1[0][0], c2[0][0], c1[0][1], c2[0][1], canny) == True):\n",
    "                    #edges.append([index1, index2])\n",
    "                    if(len(edges) != 0):\n",
    "                        for e in edges:\n",
    "                            if((e[0] == index1 or e[0] == index2) and (e[1] == index1 or e[1] == index2)):\n",
    "                                included = True\n",
    "                        if(included == False):\n",
    "                            edges.append([index1, index2])\n",
    "                    else:\n",
    "                        edges.append([index1, index2])\n",
    "                    included = False\n",
    "            index2 += 1\n",
    "        index1 += 1\n",
    "    return edges"
   ]
  },
  {
   "cell_type": "code",
   "execution_count": 12,
   "id": "0dec2a4c",
   "metadata": {},
   "outputs": [],
   "source": [
    "def GetPath(edges, SP_index):\n",
    "    visited = []\n",
    "    index = SP_index\n",
    "    next_index = index\n",
    "    enter = False\n",
    "\n",
    "    while(len(edges) != 0):\n",
    "        for e in edges:\n",
    "            if(e[0]==next_index):\n",
    "                next_index = e[1]\n",
    "                visited.append(e)\n",
    "                edges.remove(e)\n",
    "            elif(e[1]==next_index):\n",
    "                next_index = e[0]\n",
    "                visited.append([e[1],e[0]])\n",
    "                edges.remove(e)\n",
    "            else:\n",
    "                enter = True\n",
    "    return visited"
   ]
  },
  {
   "cell_type": "code",
   "execution_count": 13,
   "id": "49a37522",
   "metadata": {},
   "outputs": [],
   "source": [
    "def PathCoordinates(corners, visited):\n",
    "    path = []\n",
    "    for v in visited:\n",
    "        path.append([corners[v[0]][0][0], corners[v[0]][0][1]])\n",
    "    \n",
    "    path.append(path[0])    \n",
    "    return path"
   ]
  },
  {
   "cell_type": "code",
   "execution_count": 14,
   "id": "d07a6ca6",
   "metadata": {},
   "outputs": [],
   "source": [
    "def GetAllCorners(image_name):\n",
    "    image_path = os.path.join('Pictures',image_name)\n",
    "    img = cv2.imread(image_path)\n",
    "    gray = cv2.cvtColor(img, cv2.COLOR_BGR2GRAY)\n",
    "    blur = cv2.GaussianBlur(gray, (5,5), 0)\n",
    "    canny = cv2.Canny(blur, threshold1 = 180, threshold2 = 200)\n",
    "    resize_image = cv2.resize(canny, (int(img.shape[1]/2), int(img.shape[0]/2)))\n",
    "    corners= cv2.goodFeaturesToTrack(gray, 100, 0.1, 30)\n",
    "    return corners"
   ]
  },
  {
   "cell_type": "code",
   "execution_count": 15,
   "id": "d1efcb3d",
   "metadata": {},
   "outputs": [],
   "source": [
    "def GetAllCurvedCorners(image_name):\n",
    "    image_path = os.path.join('Pictures',image_name)\n",
    "    img = cv2.imread(image_path)\n",
    "    gray = cv2.cvtColor(img, cv2.COLOR_BGR2GRAY)\n",
    "    blur = cv2.GaussianBlur(gray, (5,5), 0)\n",
    "    canny = cv2.Canny(blur, threshold1 = 180, threshold2 = 200)\n",
    "    resize_image = cv2.resize(canny, (int(img.shape[1]/2), int(img.shape[0]/2)))\n",
    "    corners= cv2.goodFeaturesToTrack(gray, 200, 0.003, 20)\n",
    "    return corners"
   ]
  },
  {
   "cell_type": "code",
   "execution_count": 16,
   "id": "0343d9a5",
   "metadata": {},
   "outputs": [],
   "source": [
    "def GetCanny(image_name):\n",
    "    image_path = os.path.join('Pictures',image_name)\n",
    "    img = cv2.imread(image_path)\n",
    "    gray = cv2.cvtColor(img, cv2.COLOR_BGR2GRAY)\n",
    "    blur = cv2.GaussianBlur(gray, (5,5), 0)\n",
    "    canny = cv2.Canny(blur, threshold1 = 180, threshold2 = 200)\n",
    "    return canny"
   ]
  },
  {
   "cell_type": "code",
   "execution_count": 17,
   "id": "e7f5db55",
   "metadata": {},
   "outputs": [],
   "source": [
    "def GetFileName(image_name):\n",
    "    x = image_name.split(\".\")\n",
    "    y = []\n",
    "    y.append(x[0])\n",
    "    y.append('.csv')\n",
    "    file = \"\"+y[0]+\"\"+y[1]\n",
    "    return file"
   ]
  },
  {
   "cell_type": "code",
   "execution_count": 25,
   "id": "69f9cbf9",
   "metadata": {},
   "outputs": [
    {
     "data": {
      "image/png": "[encoded data removed]",
      "text/plain": [
       "<Figure size 640x480 with 1 Axes>"
      ]
     },
     "metadata": {},
     "output_type": "display_data"
    }
   ],
   "source": [
    "image_path = os.path.join('Pictures','heart.png')\n",
    "img = cv2.imread(image_path)\n",
    "gray = cv2.cvtColor(img, cv2.COLOR_BGR2GRAY)\n",
    "plt.imshow(gray)\n",
    "blur = cv2.GaussianBlur(gray, (5,5), 0)"
   ]
  },
  {
   "cell_type": "code",
   "execution_count": 26,
   "id": "1b0dfcf2",
   "metadata": {},
   "outputs": [
    {
     "data": {
      "text/plain": [
       "<matplotlib.image.AxesImage at 0x19b2a5a6910>"
      ]
     },
     "execution_count": 26,
     "metadata": {},
     "output_type": "execute_result"
    },
    {
     "data": {
      "image/png": "[encoded data removed]",
      "text/plain": [
       "<Figure size 640x480 with 1 Axes>"
      ]
     },
     "metadata": {},
     "output_type": "display_data"
    }
   ],
   "source": [
    "blur = cv2.GaussianBlur(gray, (5,5), 0)\n",
    "canny = cv2.Canny(blur, threshold1 = 160, threshold2 = 200)\n",
    "resize_image = cv2.resize(canny, (int(img.shape[1]/2), int(img.shape[0]/2)))\n",
    "cv2.imshow('Frame View', resize_image)\n",
    "plt.imshow(resize_image)"
   ]
  },
  {
   "cell_type": "code",
   "execution_count": 28,
   "id": "12a5925c",
   "metadata": {},
   "outputs": [
    {
     "name": "stdout",
     "output_type": "stream",
     "text": [
      "[[[274. 180.]]\n",
      "\n",
      " [[274. 468.]]\n",
      "\n",
      " [[ 86. 190.]]\n",
      "\n",
      " [[462. 190.]]\n",
      "\n",
      " [[399. 121.]]\n",
      "\n",
      " [[149. 121.]]\n",
      "\n",
      " [[349. 122.]]\n",
      "\n",
      " [[ 87. 244.]]\n",
      "\n",
      " [[460. 248.]]\n",
      "\n",
      " [[200. 122.]]\n",
      "\n",
      " [[437. 294.]]\n",
      "\n",
      " [[111. 294.]]]\n"
     ]
    },
    {
     "data": {
      "text/plain": [
       "<matplotlib.collections.PathCollection at 0x19b2891a6d0>"
      ]
     },
     "execution_count": 28,
     "metadata": {},
     "output_type": "execute_result"
    },
    {
     "data": {
      "image/png": "[encoded data removed]",
      "text/plain": [
       "<Figure size 640x480 with 1 Axes>"
      ]
     },
     "metadata": {},
     "output_type": "display_data"
    }
   ],
   "source": [
    "corners= cv2.goodFeaturesToTrack(gray, 200, .001, 50)\n",
    "print((corners))\n",
    "x = []\n",
    "y = []\n",
    "\n",
    "for c in corners:\n",
    "    x.append(int(c[0][0])) \n",
    "    y.append(int(c[0][1]))\n",
    "plt.scatter(x, y)"
   ]
  },
  {
   "cell_type": "code",
   "execution_count": 29,
   "id": "6fafde64",
   "metadata": {},
   "outputs": [
    {
     "data": {
      "text/plain": [
       "<matplotlib.image.AxesImage at 0x19b2a5b4850>"
      ]
     },
     "execution_count": 29,
     "metadata": {},
     "output_type": "execute_result"
    },
    {
     "data": {
      "image/png": "[encoded data removed]",
      "text/plain": [
       "<Figure size 640x480 with 1 Axes>"
      ]
     },
     "metadata": {},
     "output_type": "display_data"
    }
   ],
   "source": [
    "x_min = 100000\n",
    "y_max = 0\n",
    "for corner in corners:\n",
    "    x,y= corner[0]\n",
    "    x= int((x)/2)\n",
    "    y= int((y)/2)\n",
    "    cv2.rectangle(resize_image, (x-5,y-5),(x+5,y+5),(255,0,0),-1)\n",
    "\n",
    "    \n",
    "plt.imshow(resize_image)"
   ]
  },
  {
   "cell_type": "code",
   "execution_count": 25,
   "id": "eb8981dc",
   "metadata": {},
   "outputs": [
    {
     "name": "stdout",
     "output_type": "stream",
     "text": [
      "[[0, 10], [0, 14], [1, 5], [1, 9], [2, 13], [3, 9], [4, 8], [5, 15], [6, 10], [11, 14], [12, 15]]\n"
     ]
    }
   ],
   "source": [
    "edges = GetAllEdges(corners, canny)\n",
    "print((edges))"
   ]
  },
  {
   "cell_type": "code",
   "execution_count": 326,
   "id": "faa64b0a",
   "metadata": {},
   "outputs": [
    {
     "name": "stdout",
     "output_type": "stream",
     "text": [
      "1\n"
     ]
    }
   ],
   "source": [
    "SP_index = StartPoint(corners)\n",
    "print(SP_index)"
   ]
  },
  {
   "cell_type": "code",
   "execution_count": 321,
   "id": "8c1f7463",
   "metadata": {},
   "outputs": [
    {
     "name": "stdout",
     "output_type": "stream",
     "text": [
      "True\n",
      "True\n",
      "hits\n"
     ]
    }
   ],
   "source": [
    "index1 = 0\n",
    "index2 = 0\n",
    "included = False\n",
    "c1 = [[399, 121]]\n",
    "c2 = [[349, 122]]\n",
    "print(c1[0][0] != c2[0][0] or c1[0][1] != c2[0][1])\n",
    "if(c1[0][0] != c2[0][0] or c1[0][1] != c2[0][1]):\n",
    "    print(ValidateEdge(c1[0][0], c2[0][0], c1[0][1], c2[0][1], canny))\n",
    "    if(ValidateEdge(c1[0][0], c2[0][0], c1[0][1], c2[0][1], canny) == True):\n",
    "        print(\"hits\")\n",
    "                    #edges.append([index1, index2])\n",
    "        if(len(edges) != 0):\n",
    "            for e in edges:\n",
    "                if((e[0] == index1 or e[0] == index2) and (e[1] == index1 or e[1] == index2)):\n",
    "                    included = True\n",
    "            if(included == False):\n",
    "                edges.append([index1, index2])\n",
    "        else:\n",
    "            edges.append([index1, index2])\n",
    "        included = False"
   ]
  },
  {
   "cell_type": "code",
   "execution_count": 312,
   "id": "9d8380cf",
   "metadata": {},
   "outputs": [
    {
     "data": {
      "text/plain": [
       "array([  0,   0,   0,   0,   0,   0,   0,   0,   0,   0,   0,   0,   0,\n",
       "         0,   0,   0,   0,   0,   0,   0,   0,   0,   0,   0,   0,   0,\n",
       "         0,   0,   0,   0,   0,   0,   0,   0,   0,   0,   0,   0,   0,\n",
       "         0,   0,   0,   0,   0,   0,   0,   0,   0,   0,   0,   0,   0,\n",
       "         0,   0,   0,   0,   0,   0,   0,   0,   0,   0,   0,   0,   0,\n",
       "         0,   0,   0,   0,   0,   0,   0,   0,   0,   0,   0,   0,   0,\n",
       "         0,   0,   0,   0,   0,   0,   0,   0,   0,   0,   0,   0,   0,\n",
       "         0,   0,   0,   0,   0,   0,   0,   0,   0,   0,   0, 255, 255,\n",
       "         0,   0,   0,   0,   0,   0,   0,   0,   0,   0,   0,   0,   0,\n",
       "         0,   0,   0,   0,   0,   0,   0,   0,   0,   0,   0,   0,   0,\n",
       "         0,   0,   0,   0,   0,   0,   0,   0,   0,   0,   0,   0,   0,\n",
       "         0,   0,   0,   0,   0,   0,   0,   0,   0,   0,   0,   0,   0,\n",
       "         0,   0,   0,   0,   0,   0,   0,   0,   0,   0,   0,   0,   0,\n",
       "         0,   0,   0,   0,   0,   0,   0,   0,   0,   0,   0,   0,   0,\n",
       "         0,   0,   0,   0,   0,   0,   0,   0,   0,   0,   0,   0,   0,\n",
       "         0,   0,   0,   0,   0,   0,   0,   0,   0,   0,   0,   0,   0,\n",
       "         0,   0,   0,   0,   0,   0,   0,   0,   0,   0,   0,   0,   0,\n",
       "         0,   0,   0,   0,   0,   0,   0,   0,   0,   0,   0,   0,   0,\n",
       "         0,   0,   0,   0,   0,   0,   0,   0,   0,   0,   0,   0,   0,\n",
       "         0, 255, 255,   0,   0,   0,   0,   0,   0,   0,   0,   0,   0,\n",
       "         0,   0,   0,   0,   0,   0,   0,   0,   0,   0,   0,   0,   0,\n",
       "         0,   0,   0,   0,   0,   0,   0,   0,   0,   0,   0,   0,   0,\n",
       "         0,   0,   0,   0,   0,   0,   0,   0,   0,   0,   0,   0,   0,\n",
       "       255, 255,   0,   0,   0,   0,   0,   0,   0,   0,   0,   0,   0,\n",
       "         0,   0,   0,   0,   0,   0,   0,   0,   0,   0,   0,   0,   0,\n",
       "         0,   0,   0,   0,   0,   0,   0,   0,   0,   0,   0,   0,   0,\n",
       "         0,   0,   0,   0,   0,   0,   0,   0,   0,   0,   0,   0,   0,\n",
       "         0,   0,   0,   0,   0,   0,   0,   0,   0,   0,   0,   0,   0,\n",
       "         0,   0,   0,   0,   0,   0,   0,   0,   0,   0,   0,   0,   0,\n",
       "         0,   0,   0,   0,   0,   0,   0,   0,   0,   0,   0,   0,   0,\n",
       "         0,   0,   0,   0,   0,   0,   0,   0,   0,   0,   0,   0,   0,\n",
       "         0,   0,   0,   0,   0,   0,   0,   0,   0,   0,   0,   0,   0,\n",
       "         0,   0,   0,   0,   0,   0,   0,   0,   0,   0,   0,   0,   0,\n",
       "         0,   0,   0,   0,   0,   0,   0,   0,   0,   0,   0,   0,   0,\n",
       "         0,   0,   0, 255, 255,   0,   0,   0,   0,   0,   0,   0,   0,\n",
       "         0,   0,   0,   0,   0,   0,   0,   0,   0,   0,   0,   0,   0,\n",
       "         0,   0,   0,   0,   0,   0,   0,   0,   0,   0,   0,   0,   0,\n",
       "         0,   0,   0,   0,   0,   0,   0,   0,   0,   0,   0,   0,   0,\n",
       "         0,   0,   0,   0,   0,   0,   0,   0,   0,   0,   0,   0,   0,\n",
       "         0,   0,   0,   0,   0,   0,   0,   0,   0,   0,   0,   0,   0,\n",
       "         0,   0,   0,   0,   0,   0,   0,   0,   0,   0,   0,   0,   0,\n",
       "         0,   0,   0,   0,   0,   0,   0,   0,   0,   0,   0,   0,   0,\n",
       "         0,   0,   0,   0,   0,   0,   0,   0,   0,   0,   0,   0,   0,\n",
       "         0,   0,   0,   0,   0,   0,   0,   0,   0,   0,   0,   0,   0,\n",
       "         0,   0,   0,   0,   0,   0,   0,   0,   0,   0,   0,   0,   0,\n",
       "         0,   0,   0,   0,   0,   0,   0,   0,   0,   0,   0,   0,   0,\n",
       "         0,   0], dtype=uint8)"
      ]
     },
     "execution_count": 312,
     "metadata": {},
     "output_type": "execute_result"
    }
   ],
   "source": [
    "canny[156]"
   ]
  },
  {
   "cell_type": "code",
   "execution_count": 327,
   "id": "12e93010",
   "metadata": {},
   "outputs": [
    {
     "name": "stdout",
     "output_type": "stream",
     "text": [
      "1\n",
      "[[0, 6], [0, 9], [1, 10], [1, 11], [2, 5], [2, 7], [3, 4], [3, 8], [4, 6], [5, 9], [7, 11], [8, 10]]\n",
      "[[1, 10], [10, 8], [8, 3], [3, 4], [4, 6], [6, 0], [0, 9], [9, 5], [5, 2], [2, 7], [7, 11], [11, 1]]\n"
     ]
    }
   ],
   "source": [
    "visited = []\n",
    "index = SP_index\n",
    "next_index = index\n",
    "enter = False\n",
    "print(index)\n",
    "print(edges)\n",
    "while(len(edges) != 0):\n",
    "    for e in edges:\n",
    "        if(e[0]==next_index):\n",
    "            next_index = e[1]\n",
    "            visited.append(e)\n",
    "            edges.remove(e)\n",
    "        elif(e[1]==next_index):\n",
    "            next_index = e[0]\n",
    "            visited.append([e[1],e[0]])\n",
    "            edges.remove(e)\n",
    "        else:\n",
    "            enter = True\n",
    "print(visited)"
   ]
  },
  {
   "cell_type": "code",
   "execution_count": null,
   "id": "c86c3d6e",
   "metadata": {},
   "outputs": [],
   "source": []
  }
 ],
 "metadata": {
  "kernelspec": {
   "display_name": "Python 3 (ipykernel)",
   "language": "python",
   "name": "python3"
  },
  "language_info": {
   "codemirror_mode": {
    "name": "ipython",
    "version": 3
   },
   "file_extension": ".py",
   "mimetype": "text/x-python",
   "name": "python",
   "nbconvert_exporter": "python",
   "pygments_lexer": "ipython3",
   "version": "3.9.13"
  }
 },
 "nbformat": 4,
 "nbformat_minor": 5
}
